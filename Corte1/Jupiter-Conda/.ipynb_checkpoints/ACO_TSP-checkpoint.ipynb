{
 "cells": [
  {
   "cell_type": "code",
   "execution_count": 1,
   "id": "7dc66f63-a1dc-4054-82aa-00cbd1dbbc40",
   "metadata": {},
   "outputs": [
    {
     "name": "stdout",
     "output_type": "stream",
     "text": [
      "Requirement already satisfied: tsplib95 in c:\\users\\leona\\anaconda3\\lib\\site-packages (0.7.1)\n",
      "Requirement already satisfied: Click>=6.0 in c:\\users\\leona\\anaconda3\\lib\\site-packages (from tsplib95) (8.1.7)\n",
      "Requirement already satisfied: Deprecated~=1.2.9 in c:\\users\\leona\\anaconda3\\lib\\site-packages (from tsplib95) (1.2.14)\n",
      "Requirement already satisfied: networkx~=2.1 in c:\\users\\leona\\anaconda3\\lib\\site-packages (from tsplib95) (2.8.8)\n",
      "Requirement already satisfied: tabulate~=0.8.7 in c:\\users\\leona\\anaconda3\\lib\\site-packages (from tsplib95) (0.8.10)\n",
      "Requirement already satisfied: colorama in c:\\users\\leona\\anaconda3\\lib\\site-packages (from Click>=6.0->tsplib95) (0.4.6)\n",
      "Requirement already satisfied: wrapt<2,>=1.10 in c:\\users\\leona\\anaconda3\\lib\\site-packages (from Deprecated~=1.2.9->tsplib95) (1.14.1)\n",
      "Note: you may need to restart the kernel to use updated packages.\n"
     ]
    }
   ],
   "source": [
    "pip install tsplib95"
   ]
  },
  {
   "cell_type": "code",
   "execution_count": 2,
   "id": "87af8277-3c70-462b-87a1-b98e236d4e3a",
   "metadata": {},
   "outputs": [],
   "source": [
    "import tsplib95"
   ]
  },
  {
   "cell_type": "code",
   "execution_count": 6,
   "id": "ff7083aa-be1f-4a09-9f96-1987cace3850",
   "metadata": {},
   "outputs": [
    {
     "name": "stdout",
     "output_type": "stream",
     "text": [
      "Requirement already satisfied: ipycanvas in c:\\users\\leona\\anaconda3\\lib\\site-packages (0.13.3)\n",
      "Requirement already satisfied: ipywidgets<9,>=7.6.0 in c:\\users\\leona\\anaconda3\\lib\\site-packages (from ipycanvas) (7.8.1)\n",
      "Requirement already satisfied: numpy in c:\\users\\leona\\anaconda3\\lib\\site-packages (from ipycanvas) (1.26.4)\n",
      "Requirement already satisfied: pillow>=6.0 in c:\\users\\leona\\anaconda3\\lib\\site-packages (from ipycanvas) (10.3.0)\n",
      "Requirement already satisfied: comm>=0.1.3 in c:\\users\\leona\\anaconda3\\lib\\site-packages (from ipywidgets<9,>=7.6.0->ipycanvas) (0.2.1)\n",
      "Requirement already satisfied: ipython-genutils~=0.2.0 in c:\\users\\leona\\anaconda3\\lib\\site-packages (from ipywidgets<9,>=7.6.0->ipycanvas) (0.2.0)\n",
      "Requirement already satisfied: traitlets>=4.3.1 in c:\\users\\leona\\anaconda3\\lib\\site-packages (from ipywidgets<9,>=7.6.0->ipycanvas) (5.14.3)\n",
      "Requirement already satisfied: widgetsnbextension~=3.6.6 in c:\\users\\leona\\anaconda3\\lib\\site-packages (from ipywidgets<9,>=7.6.0->ipycanvas) (3.6.6)\n",
      "Requirement already satisfied: ipython>=4.0.0 in c:\\users\\leona\\anaconda3\\lib\\site-packages (from ipywidgets<9,>=7.6.0->ipycanvas) (8.25.0)\n",
      "Requirement already satisfied: jupyterlab-widgets<3,>=1.0.0 in c:\\users\\leona\\anaconda3\\lib\\site-packages (from ipywidgets<9,>=7.6.0->ipycanvas) (1.0.0)\n",
      "Requirement already satisfied: decorator in c:\\users\\leona\\anaconda3\\lib\\site-packages (from ipython>=4.0.0->ipywidgets<9,>=7.6.0->ipycanvas) (5.1.1)\n",
      "Requirement already satisfied: jedi>=0.16 in c:\\users\\leona\\anaconda3\\lib\\site-packages (from ipython>=4.0.0->ipywidgets<9,>=7.6.0->ipycanvas) (0.18.1)\n",
      "Requirement already satisfied: matplotlib-inline in c:\\users\\leona\\anaconda3\\lib\\site-packages (from ipython>=4.0.0->ipywidgets<9,>=7.6.0->ipycanvas) (0.1.6)\n",
      "Requirement already satisfied: prompt-toolkit<3.1.0,>=3.0.41 in c:\\users\\leona\\anaconda3\\lib\\site-packages (from ipython>=4.0.0->ipywidgets<9,>=7.6.0->ipycanvas) (3.0.43)\n",
      "Requirement already satisfied: pygments>=2.4.0 in c:\\users\\leona\\anaconda3\\lib\\site-packages (from ipython>=4.0.0->ipywidgets<9,>=7.6.0->ipycanvas) (2.15.1)\n",
      "Requirement already satisfied: stack-data in c:\\users\\leona\\anaconda3\\lib\\site-packages (from ipython>=4.0.0->ipywidgets<9,>=7.6.0->ipycanvas) (0.2.0)\n",
      "Requirement already satisfied: colorama in c:\\users\\leona\\anaconda3\\lib\\site-packages (from ipython>=4.0.0->ipywidgets<9,>=7.6.0->ipycanvas) (0.4.6)\n",
      "Requirement already satisfied: notebook>=4.4.1 in c:\\users\\leona\\anaconda3\\lib\\site-packages (from widgetsnbextension~=3.6.6->ipywidgets<9,>=7.6.0->ipycanvas) (7.0.8)\n",
      "Requirement already satisfied: parso<0.9.0,>=0.8.0 in c:\\users\\leona\\anaconda3\\lib\\site-packages (from jedi>=0.16->ipython>=4.0.0->ipywidgets<9,>=7.6.0->ipycanvas) (0.8.3)\n",
      "Requirement already satisfied: jupyter-server<3,>=2.4.0 in c:\\users\\leona\\anaconda3\\lib\\site-packages (from notebook>=4.4.1->widgetsnbextension~=3.6.6->ipywidgets<9,>=7.6.0->ipycanvas) (2.14.1)\n",
      "Requirement already satisfied: jupyterlab-server<3,>=2.22.1 in c:\\users\\leona\\anaconda3\\lib\\site-packages (from notebook>=4.4.1->widgetsnbextension~=3.6.6->ipywidgets<9,>=7.6.0->ipycanvas) (2.25.1)\n",
      "Requirement already satisfied: jupyterlab<4.1,>=4.0.2 in c:\\users\\leona\\anaconda3\\lib\\site-packages (from notebook>=4.4.1->widgetsnbextension~=3.6.6->ipywidgets<9,>=7.6.0->ipycanvas) (4.0.11)\n",
      "Requirement already satisfied: notebook-shim<0.3,>=0.2 in c:\\users\\leona\\anaconda3\\lib\\site-packages (from notebook>=4.4.1->widgetsnbextension~=3.6.6->ipywidgets<9,>=7.6.0->ipycanvas) (0.2.3)\n",
      "Requirement already satisfied: tornado>=6.2.0 in c:\\users\\leona\\anaconda3\\lib\\site-packages (from notebook>=4.4.1->widgetsnbextension~=3.6.6->ipywidgets<9,>=7.6.0->ipycanvas) (6.4.1)\n",
      "Requirement already satisfied: wcwidth in c:\\users\\leona\\anaconda3\\lib\\site-packages (from prompt-toolkit<3.1.0,>=3.0.41->ipython>=4.0.0->ipywidgets<9,>=7.6.0->ipycanvas) (0.2.5)\n",
      "Requirement already satisfied: executing in c:\\users\\leona\\anaconda3\\lib\\site-packages (from stack-data->ipython>=4.0.0->ipywidgets<9,>=7.6.0->ipycanvas) (0.8.3)\n",
      "Requirement already satisfied: asttokens in c:\\users\\leona\\anaconda3\\lib\\site-packages (from stack-data->ipython>=4.0.0->ipywidgets<9,>=7.6.0->ipycanvas) (2.0.5)\n",
      "Requirement already satisfied: pure-eval in c:\\users\\leona\\anaconda3\\lib\\site-packages (from stack-data->ipython>=4.0.0->ipywidgets<9,>=7.6.0->ipycanvas) (0.2.2)\n",
      "Requirement already satisfied: anyio>=3.1.0 in c:\\users\\leona\\anaconda3\\lib\\site-packages (from jupyter-server<3,>=2.4.0->notebook>=4.4.1->widgetsnbextension~=3.6.6->ipywidgets<9,>=7.6.0->ipycanvas) (4.2.0)\n",
      "Requirement already satisfied: argon2-cffi>=21.1 in c:\\users\\leona\\anaconda3\\lib\\site-packages (from jupyter-server<3,>=2.4.0->notebook>=4.4.1->widgetsnbextension~=3.6.6->ipywidgets<9,>=7.6.0->ipycanvas) (21.3.0)\n",
      "Requirement already satisfied: jinja2>=3.0.3 in c:\\users\\leona\\anaconda3\\lib\\site-packages (from jupyter-server<3,>=2.4.0->notebook>=4.4.1->widgetsnbextension~=3.6.6->ipywidgets<9,>=7.6.0->ipycanvas) (3.1.4)\n",
      "Requirement already satisfied: jupyter-client>=7.4.4 in c:\\users\\leona\\anaconda3\\lib\\site-packages (from jupyter-server<3,>=2.4.0->notebook>=4.4.1->widgetsnbextension~=3.6.6->ipywidgets<9,>=7.6.0->ipycanvas) (8.6.0)\n",
      "Requirement already satisfied: jupyter-core!=5.0.*,>=4.12 in c:\\users\\leona\\anaconda3\\lib\\site-packages (from jupyter-server<3,>=2.4.0->notebook>=4.4.1->widgetsnbextension~=3.6.6->ipywidgets<9,>=7.6.0->ipycanvas) (5.7.2)\n",
      "Requirement already satisfied: jupyter-events>=0.9.0 in c:\\users\\leona\\anaconda3\\lib\\site-packages (from jupyter-server<3,>=2.4.0->notebook>=4.4.1->widgetsnbextension~=3.6.6->ipywidgets<9,>=7.6.0->ipycanvas) (0.10.0)\n",
      "Requirement already satisfied: jupyter-server-terminals>=0.4.4 in c:\\users\\leona\\anaconda3\\lib\\site-packages (from jupyter-server<3,>=2.4.0->notebook>=4.4.1->widgetsnbextension~=3.6.6->ipywidgets<9,>=7.6.0->ipycanvas) (0.4.4)\n",
      "Requirement already satisfied: nbconvert>=6.4.4 in c:\\users\\leona\\anaconda3\\lib\\site-packages (from jupyter-server<3,>=2.4.0->notebook>=4.4.1->widgetsnbextension~=3.6.6->ipywidgets<9,>=7.6.0->ipycanvas) (7.10.0)\n",
      "Requirement already satisfied: nbformat>=5.3.0 in c:\\users\\leona\\anaconda3\\lib\\site-packages (from jupyter-server<3,>=2.4.0->notebook>=4.4.1->widgetsnbextension~=3.6.6->ipywidgets<9,>=7.6.0->ipycanvas) (5.9.2)\n",
      "Requirement already satisfied: overrides>=5.0 in c:\\users\\leona\\anaconda3\\lib\\site-packages (from jupyter-server<3,>=2.4.0->notebook>=4.4.1->widgetsnbextension~=3.6.6->ipywidgets<9,>=7.6.0->ipycanvas) (7.4.0)\n",
      "Requirement already satisfied: packaging>=22.0 in c:\\users\\leona\\anaconda3\\lib\\site-packages (from jupyter-server<3,>=2.4.0->notebook>=4.4.1->widgetsnbextension~=3.6.6->ipywidgets<9,>=7.6.0->ipycanvas) (23.2)\n",
      "Requirement already satisfied: prometheus-client>=0.9 in c:\\users\\leona\\anaconda3\\lib\\site-packages (from jupyter-server<3,>=2.4.0->notebook>=4.4.1->widgetsnbextension~=3.6.6->ipywidgets<9,>=7.6.0->ipycanvas) (0.14.1)\n",
      "Requirement already satisfied: pywinpty>=2.0.1 in c:\\users\\leona\\anaconda3\\lib\\site-packages (from jupyter-server<3,>=2.4.0->notebook>=4.4.1->widgetsnbextension~=3.6.6->ipywidgets<9,>=7.6.0->ipycanvas) (2.0.10)\n",
      "Requirement already satisfied: pyzmq>=24 in c:\\users\\leona\\anaconda3\\lib\\site-packages (from jupyter-server<3,>=2.4.0->notebook>=4.4.1->widgetsnbextension~=3.6.6->ipywidgets<9,>=7.6.0->ipycanvas) (25.1.2)\n",
      "Requirement already satisfied: send2trash>=1.8.2 in c:\\users\\leona\\anaconda3\\lib\\site-packages (from jupyter-server<3,>=2.4.0->notebook>=4.4.1->widgetsnbextension~=3.6.6->ipywidgets<9,>=7.6.0->ipycanvas) (1.8.2)\n",
      "Requirement already satisfied: terminado>=0.8.3 in c:\\users\\leona\\anaconda3\\lib\\site-packages (from jupyter-server<3,>=2.4.0->notebook>=4.4.1->widgetsnbextension~=3.6.6->ipywidgets<9,>=7.6.0->ipycanvas) (0.17.1)\n",
      "Requirement already satisfied: websocket-client>=1.7 in c:\\users\\leona\\anaconda3\\lib\\site-packages (from jupyter-server<3,>=2.4.0->notebook>=4.4.1->widgetsnbextension~=3.6.6->ipywidgets<9,>=7.6.0->ipycanvas) (1.8.0)\n",
      "Requirement already satisfied: async-lru>=1.0.0 in c:\\users\\leona\\anaconda3\\lib\\site-packages (from jupyterlab<4.1,>=4.0.2->notebook>=4.4.1->widgetsnbextension~=3.6.6->ipywidgets<9,>=7.6.0->ipycanvas) (2.0.4)\n",
      "Requirement already satisfied: ipykernel in c:\\users\\leona\\anaconda3\\lib\\site-packages (from jupyterlab<4.1,>=4.0.2->notebook>=4.4.1->widgetsnbextension~=3.6.6->ipywidgets<9,>=7.6.0->ipycanvas) (6.28.0)\n",
      "Requirement already satisfied: jupyter-lsp>=2.0.0 in c:\\users\\leona\\anaconda3\\lib\\site-packages (from jupyterlab<4.1,>=4.0.2->notebook>=4.4.1->widgetsnbextension~=3.6.6->ipywidgets<9,>=7.6.0->ipycanvas) (2.2.0)\n",
      "Requirement already satisfied: babel>=2.10 in c:\\users\\leona\\anaconda3\\lib\\site-packages (from jupyterlab-server<3,>=2.22.1->notebook>=4.4.1->widgetsnbextension~=3.6.6->ipywidgets<9,>=7.6.0->ipycanvas) (2.11.0)\n",
      "Requirement already satisfied: json5>=0.9.0 in c:\\users\\leona\\anaconda3\\lib\\site-packages (from jupyterlab-server<3,>=2.22.1->notebook>=4.4.1->widgetsnbextension~=3.6.6->ipywidgets<9,>=7.6.0->ipycanvas) (0.9.6)\n",
      "Requirement already satisfied: jsonschema>=4.18.0 in c:\\users\\leona\\anaconda3\\lib\\site-packages (from jupyterlab-server<3,>=2.22.1->notebook>=4.4.1->widgetsnbextension~=3.6.6->ipywidgets<9,>=7.6.0->ipycanvas) (4.19.2)\n",
      "Requirement already satisfied: requests>=2.31 in c:\\users\\leona\\anaconda3\\lib\\site-packages (from jupyterlab-server<3,>=2.22.1->notebook>=4.4.1->widgetsnbextension~=3.6.6->ipywidgets<9,>=7.6.0->ipycanvas) (2.32.2)\n",
      "Requirement already satisfied: six in c:\\users\\leona\\anaconda3\\lib\\site-packages (from asttokens->stack-data->ipython>=4.0.0->ipywidgets<9,>=7.6.0->ipycanvas) (1.16.0)\n",
      "Requirement already satisfied: idna>=2.8 in c:\\users\\leona\\anaconda3\\lib\\site-packages (from anyio>=3.1.0->jupyter-server<3,>=2.4.0->notebook>=4.4.1->widgetsnbextension~=3.6.6->ipywidgets<9,>=7.6.0->ipycanvas) (3.7)\n",
      "Requirement already satisfied: sniffio>=1.1 in c:\\users\\leona\\anaconda3\\lib\\site-packages (from anyio>=3.1.0->jupyter-server<3,>=2.4.0->notebook>=4.4.1->widgetsnbextension~=3.6.6->ipywidgets<9,>=7.6.0->ipycanvas) (1.3.0)\n",
      "Requirement already satisfied: argon2-cffi-bindings in c:\\users\\leona\\anaconda3\\lib\\site-packages (from argon2-cffi>=21.1->jupyter-server<3,>=2.4.0->notebook>=4.4.1->widgetsnbextension~=3.6.6->ipywidgets<9,>=7.6.0->ipycanvas) (21.2.0)\n",
      "Requirement already satisfied: pytz>=2015.7 in c:\\users\\leona\\anaconda3\\lib\\site-packages (from babel>=2.10->jupyterlab-server<3,>=2.22.1->notebook>=4.4.1->widgetsnbextension~=3.6.6->ipywidgets<9,>=7.6.0->ipycanvas) (2024.1)\n",
      "Requirement already satisfied: MarkupSafe>=2.0 in c:\\users\\leona\\anaconda3\\lib\\site-packages (from jinja2>=3.0.3->jupyter-server<3,>=2.4.0->notebook>=4.4.1->widgetsnbextension~=3.6.6->ipywidgets<9,>=7.6.0->ipycanvas) (2.1.3)\n",
      "Requirement already satisfied: attrs>=22.2.0 in c:\\users\\leona\\anaconda3\\lib\\site-packages (from jsonschema>=4.18.0->jupyterlab-server<3,>=2.22.1->notebook>=4.4.1->widgetsnbextension~=3.6.6->ipywidgets<9,>=7.6.0->ipycanvas) (23.1.0)\n",
      "Requirement already satisfied: jsonschema-specifications>=2023.03.6 in c:\\users\\leona\\anaconda3\\lib\\site-packages (from jsonschema>=4.18.0->jupyterlab-server<3,>=2.22.1->notebook>=4.4.1->widgetsnbextension~=3.6.6->ipywidgets<9,>=7.6.0->ipycanvas) (2023.7.1)\n",
      "Requirement already satisfied: referencing>=0.28.4 in c:\\users\\leona\\anaconda3\\lib\\site-packages (from jsonschema>=4.18.0->jupyterlab-server<3,>=2.22.1->notebook>=4.4.1->widgetsnbextension~=3.6.6->ipywidgets<9,>=7.6.0->ipycanvas) (0.30.2)\n",
      "Requirement already satisfied: rpds-py>=0.7.1 in c:\\users\\leona\\anaconda3\\lib\\site-packages (from jsonschema>=4.18.0->jupyterlab-server<3,>=2.22.1->notebook>=4.4.1->widgetsnbextension~=3.6.6->ipywidgets<9,>=7.6.0->ipycanvas) (0.10.6)\n",
      "Requirement already satisfied: python-dateutil>=2.8.2 in c:\\users\\leona\\anaconda3\\lib\\site-packages (from jupyter-client>=7.4.4->jupyter-server<3,>=2.4.0->notebook>=4.4.1->widgetsnbextension~=3.6.6->ipywidgets<9,>=7.6.0->ipycanvas) (2.9.0.post0)\n",
      "Requirement already satisfied: platformdirs>=2.5 in c:\\users\\leona\\anaconda3\\lib\\site-packages (from jupyter-core!=5.0.*,>=4.12->jupyter-server<3,>=2.4.0->notebook>=4.4.1->widgetsnbextension~=3.6.6->ipywidgets<9,>=7.6.0->ipycanvas) (3.10.0)\n",
      "Requirement already satisfied: pywin32>=300 in c:\\users\\leona\\anaconda3\\lib\\site-packages (from jupyter-core!=5.0.*,>=4.12->jupyter-server<3,>=2.4.0->notebook>=4.4.1->widgetsnbextension~=3.6.6->ipywidgets<9,>=7.6.0->ipycanvas) (305.1)\n",
      "Requirement already satisfied: python-json-logger>=2.0.4 in c:\\users\\leona\\anaconda3\\lib\\site-packages (from jupyter-events>=0.9.0->jupyter-server<3,>=2.4.0->notebook>=4.4.1->widgetsnbextension~=3.6.6->ipywidgets<9,>=7.6.0->ipycanvas) (2.0.7)\n",
      "Requirement already satisfied: pyyaml>=5.3 in c:\\users\\leona\\anaconda3\\lib\\site-packages (from jupyter-events>=0.9.0->jupyter-server<3,>=2.4.0->notebook>=4.4.1->widgetsnbextension~=3.6.6->ipywidgets<9,>=7.6.0->ipycanvas) (6.0.1)\n",
      "Requirement already satisfied: rfc3339-validator in c:\\users\\leona\\anaconda3\\lib\\site-packages (from jupyter-events>=0.9.0->jupyter-server<3,>=2.4.0->notebook>=4.4.1->widgetsnbextension~=3.6.6->ipywidgets<9,>=7.6.0->ipycanvas) (0.1.4)\n",
      "Requirement already satisfied: rfc3986-validator>=0.1.1 in c:\\users\\leona\\anaconda3\\lib\\site-packages (from jupyter-events>=0.9.0->jupyter-server<3,>=2.4.0->notebook>=4.4.1->widgetsnbextension~=3.6.6->ipywidgets<9,>=7.6.0->ipycanvas) (0.1.1)\n",
      "Requirement already satisfied: beautifulsoup4 in c:\\users\\leona\\anaconda3\\lib\\site-packages (from nbconvert>=6.4.4->jupyter-server<3,>=2.4.0->notebook>=4.4.1->widgetsnbextension~=3.6.6->ipywidgets<9,>=7.6.0->ipycanvas) (4.12.3)\n",
      "Requirement already satisfied: bleach!=5.0.0 in c:\\users\\leona\\anaconda3\\lib\\site-packages (from nbconvert>=6.4.4->jupyter-server<3,>=2.4.0->notebook>=4.4.1->widgetsnbextension~=3.6.6->ipywidgets<9,>=7.6.0->ipycanvas) (4.1.0)\n",
      "Requirement already satisfied: defusedxml in c:\\users\\leona\\anaconda3\\lib\\site-packages (from nbconvert>=6.4.4->jupyter-server<3,>=2.4.0->notebook>=4.4.1->widgetsnbextension~=3.6.6->ipywidgets<9,>=7.6.0->ipycanvas) (0.7.1)\n",
      "Requirement already satisfied: jupyterlab-pygments in c:\\users\\leona\\anaconda3\\lib\\site-packages (from nbconvert>=6.4.4->jupyter-server<3,>=2.4.0->notebook>=4.4.1->widgetsnbextension~=3.6.6->ipywidgets<9,>=7.6.0->ipycanvas) (0.1.2)\n",
      "Requirement already satisfied: mistune<4,>=2.0.3 in c:\\users\\leona\\anaconda3\\lib\\site-packages (from nbconvert>=6.4.4->jupyter-server<3,>=2.4.0->notebook>=4.4.1->widgetsnbextension~=3.6.6->ipywidgets<9,>=7.6.0->ipycanvas) (2.0.4)\n",
      "Requirement already satisfied: nbclient>=0.5.0 in c:\\users\\leona\\anaconda3\\lib\\site-packages (from nbconvert>=6.4.4->jupyter-server<3,>=2.4.0->notebook>=4.4.1->widgetsnbextension~=3.6.6->ipywidgets<9,>=7.6.0->ipycanvas) (0.8.0)\n",
      "Requirement already satisfied: pandocfilters>=1.4.1 in c:\\users\\leona\\anaconda3\\lib\\site-packages (from nbconvert>=6.4.4->jupyter-server<3,>=2.4.0->notebook>=4.4.1->widgetsnbextension~=3.6.6->ipywidgets<9,>=7.6.0->ipycanvas) (1.5.0)\n",
      "Requirement already satisfied: tinycss2 in c:\\users\\leona\\anaconda3\\lib\\site-packages (from nbconvert>=6.4.4->jupyter-server<3,>=2.4.0->notebook>=4.4.1->widgetsnbextension~=3.6.6->ipywidgets<9,>=7.6.0->ipycanvas) (1.2.1)\n",
      "Requirement already satisfied: fastjsonschema in c:\\users\\leona\\anaconda3\\lib\\site-packages (from nbformat>=5.3.0->jupyter-server<3,>=2.4.0->notebook>=4.4.1->widgetsnbextension~=3.6.6->ipywidgets<9,>=7.6.0->ipycanvas) (2.16.2)\n",
      "Requirement already satisfied: charset-normalizer<4,>=2 in c:\\users\\leona\\anaconda3\\lib\\site-packages (from requests>=2.31->jupyterlab-server<3,>=2.22.1->notebook>=4.4.1->widgetsnbextension~=3.6.6->ipywidgets<9,>=7.6.0->ipycanvas) (2.0.4)\n",
      "Requirement already satisfied: urllib3<3,>=1.21.1 in c:\\users\\leona\\anaconda3\\lib\\site-packages (from requests>=2.31->jupyterlab-server<3,>=2.22.1->notebook>=4.4.1->widgetsnbextension~=3.6.6->ipywidgets<9,>=7.6.0->ipycanvas) (2.2.2)\n",
      "Requirement already satisfied: certifi>=2017.4.17 in c:\\users\\leona\\anaconda3\\lib\\site-packages (from requests>=2.31->jupyterlab-server<3,>=2.22.1->notebook>=4.4.1->widgetsnbextension~=3.6.6->ipywidgets<9,>=7.6.0->ipycanvas) (2024.8.30)\n",
      "Requirement already satisfied: debugpy>=1.6.5 in c:\\users\\leona\\anaconda3\\lib\\site-packages (from ipykernel->jupyterlab<4.1,>=4.0.2->notebook>=4.4.1->widgetsnbextension~=3.6.6->ipywidgets<9,>=7.6.0->ipycanvas) (1.6.7)\n",
      "Requirement already satisfied: nest-asyncio in c:\\users\\leona\\anaconda3\\lib\\site-packages (from ipykernel->jupyterlab<4.1,>=4.0.2->notebook>=4.4.1->widgetsnbextension~=3.6.6->ipywidgets<9,>=7.6.0->ipycanvas) (1.6.0)\n",
      "Requirement already satisfied: psutil in c:\\users\\leona\\anaconda3\\lib\\site-packages (from ipykernel->jupyterlab<4.1,>=4.0.2->notebook>=4.4.1->widgetsnbextension~=3.6.6->ipywidgets<9,>=7.6.0->ipycanvas) (5.9.0)\n",
      "Requirement already satisfied: webencodings in c:\\users\\leona\\anaconda3\\lib\\site-packages (from bleach!=5.0.0->nbconvert>=6.4.4->jupyter-server<3,>=2.4.0->notebook>=4.4.1->widgetsnbextension~=3.6.6->ipywidgets<9,>=7.6.0->ipycanvas) (0.5.1)\n",
      "Requirement already satisfied: fqdn in c:\\users\\leona\\anaconda3\\lib\\site-packages (from jsonschema[format-nongpl]>=4.18.0->jupyter-events>=0.9.0->jupyter-server<3,>=2.4.0->notebook>=4.4.1->widgetsnbextension~=3.6.6->ipywidgets<9,>=7.6.0->ipycanvas) (1.5.1)\n",
      "Requirement already satisfied: isoduration in c:\\users\\leona\\anaconda3\\lib\\site-packages (from jsonschema[format-nongpl]>=4.18.0->jupyter-events>=0.9.0->jupyter-server<3,>=2.4.0->notebook>=4.4.1->widgetsnbextension~=3.6.6->ipywidgets<9,>=7.6.0->ipycanvas) (20.11.0)\n",
      "Requirement already satisfied: jsonpointer>1.13 in c:\\users\\leona\\anaconda3\\lib\\site-packages (from jsonschema[format-nongpl]>=4.18.0->jupyter-events>=0.9.0->jupyter-server<3,>=2.4.0->notebook>=4.4.1->widgetsnbextension~=3.6.6->ipywidgets<9,>=7.6.0->ipycanvas) (2.1)\n",
      "Requirement already satisfied: uri-template in c:\\users\\leona\\anaconda3\\lib\\site-packages (from jsonschema[format-nongpl]>=4.18.0->jupyter-events>=0.9.0->jupyter-server<3,>=2.4.0->notebook>=4.4.1->widgetsnbextension~=3.6.6->ipywidgets<9,>=7.6.0->ipycanvas) (1.3.0)\n",
      "Requirement already satisfied: webcolors>=1.11 in c:\\users\\leona\\anaconda3\\lib\\site-packages (from jsonschema[format-nongpl]>=4.18.0->jupyter-events>=0.9.0->jupyter-server<3,>=2.4.0->notebook>=4.4.1->widgetsnbextension~=3.6.6->ipywidgets<9,>=7.6.0->ipycanvas) (24.11.1)\n",
      "Requirement already satisfied: cffi>=1.0.1 in c:\\users\\leona\\anaconda3\\lib\\site-packages (from argon2-cffi-bindings->argon2-cffi>=21.1->jupyter-server<3,>=2.4.0->notebook>=4.4.1->widgetsnbextension~=3.6.6->ipywidgets<9,>=7.6.0->ipycanvas) (1.16.0)\n",
      "Requirement already satisfied: soupsieve>1.2 in c:\\users\\leona\\anaconda3\\lib\\site-packages (from beautifulsoup4->nbconvert>=6.4.4->jupyter-server<3,>=2.4.0->notebook>=4.4.1->widgetsnbextension~=3.6.6->ipywidgets<9,>=7.6.0->ipycanvas) (2.5)\n",
      "Requirement already satisfied: pycparser in c:\\users\\leona\\anaconda3\\lib\\site-packages (from cffi>=1.0.1->argon2-cffi-bindings->argon2-cffi>=21.1->jupyter-server<3,>=2.4.0->notebook>=4.4.1->widgetsnbextension~=3.6.6->ipywidgets<9,>=7.6.0->ipycanvas) (2.21)\n",
      "Requirement already satisfied: arrow>=0.15.0 in c:\\users\\leona\\anaconda3\\lib\\site-packages (from isoduration->jsonschema[format-nongpl]>=4.18.0->jupyter-events>=0.9.0->jupyter-server<3,>=2.4.0->notebook>=4.4.1->widgetsnbextension~=3.6.6->ipywidgets<9,>=7.6.0->ipycanvas) (1.2.3)\n",
      "Note: you may need to restart the kernel to use updated packages.\n"
     ]
    }
   ],
   "source": [
    "pip install ipycanvas"
   ]
  },
  {
   "cell_type": "code",
   "execution_count": null,
   "id": "2f34c062-1e8c-4a20-b3cc-3596b3bb28ac",
   "metadata": {},
   "outputs": [],
   "source": [
    "pip install Canvas"
   ]
  },
  {
   "cell_type": "code",
   "execution_count": null,
   "id": "49e9cc05-b3d5-44e9-a065-d217a5b67bc6",
   "metadata": {},
   "outputs": [],
   "source": [
    "from ipycanvas import Canvas\n",
    "from PIL import Image\n",
    "import numpy as np\n",
    "import os"
   ]
  },
  {
   "cell_type": "code",
   "execution_count": null,
   "id": "e0946a22-0a5b-40bb-9513-7092328e6e27",
   "metadata": {},
   "outputs": [],
   "source": []
  }
 ],
 "metadata": {
  "kernelspec": {
   "display_name": "Python 3 (ipykernel)",
   "language": "python",
   "name": "python3"
  },
  "language_info": {
   "codemirror_mode": {
    "name": "ipython",
    "version": 3
   },
   "file_extension": ".py",
   "mimetype": "text/x-python",
   "name": "python",
   "nbconvert_exporter": "python",
   "pygments_lexer": "ipython3",
   "version": "3.12.4"
  }
 },
 "nbformat": 4,
 "nbformat_minor": 5
}
